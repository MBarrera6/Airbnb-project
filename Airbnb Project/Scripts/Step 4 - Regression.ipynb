{
 "cells": [
  {
   "cell_type": "code",
   "execution_count": 1,
   "id": "ccaf0bc4",
   "metadata": {},
   "outputs": [],
   "source": [
    "import pandas as pd\n",
    "import numpy as np\n",
    "import seaborn as sns\n",
    "import matplotlib\n",
    "import matplotlib.pyplot as plt\n",
    "import os\n",
    "import sklearn\n",
    "from sklearn.model_selection import train_test_split \n",
    "from sklearn.linear_model import LinearRegression\n",
    "from sklearn.metrics import mean_squared_error, r2_score"
   ]
  },
  {
   "cell_type": "code",
   "execution_count": 2,
   "id": "a972cf8a",
   "metadata": {},
   "outputs": [],
   "source": [
    "# This option ensures that the graphs you create are displayed within the notebook without the need to \"call\" them specifically.\n",
    "\n",
    "%matplotlib inline"
   ]
  },
  {
   "cell_type": "code",
   "execution_count": 3,
   "id": "d5baaa5e",
   "metadata": {},
   "outputs": [],
   "source": [
    "path = r'C:\\Users\\mauri\\OneDrive\\Escritorio\\Data Analysis\\6.X'"
   ]
  },
  {
   "cell_type": "code",
   "execution_count": 4,
   "id": "25771628",
   "metadata": {},
   "outputs": [],
   "source": [
    "df = pd.read_pickle(os.path.join(path, 'airbnb_ny_open_data_cleaned.pkl'))"
   ]
  },
  {
   "cell_type": "code",
   "execution_count": 5,
   "id": "ffe629bc",
   "metadata": {},
   "outputs": [],
   "source": [
    "# fill the Length and Width missing valus with median\n",
    "df['number_reviews'] = df['number_reviews'].fillna(df['number_reviews'].median())\n",
    "df['reviews_per_month'] = df['reviews_per_month'].fillna(df['reviews_per_month'].median())"
   ]
  },
  {
   "cell_type": "code",
   "execution_count": 6,
   "id": "49f52a5e",
   "metadata": {},
   "outputs": [
    {
     "data": {
      "text/html": [
       "<div>\n",
       "<style scoped>\n",
       "    .dataframe tbody tr th:only-of-type {\n",
       "        vertical-align: middle;\n",
       "    }\n",
       "\n",
       "    .dataframe tbody tr th {\n",
       "        vertical-align: top;\n",
       "    }\n",
       "\n",
       "    .dataframe thead th {\n",
       "        text-align: right;\n",
       "    }\n",
       "</style>\n",
       "<table border=\"1\" class=\"dataframe\">\n",
       "  <thead>\n",
       "    <tr style=\"text-align: right;\">\n",
       "      <th></th>\n",
       "      <th>id</th>\n",
       "      <th>name</th>\n",
       "      <th>host_id</th>\n",
       "      <th>host_identity_verified</th>\n",
       "      <th>host_name</th>\n",
       "      <th>neighbourhood_group</th>\n",
       "      <th>neighbourhood</th>\n",
       "      <th>lat</th>\n",
       "      <th>long</th>\n",
       "      <th>country</th>\n",
       "      <th>...</th>\n",
       "      <th>construction_year</th>\n",
       "      <th>price</th>\n",
       "      <th>service_fee</th>\n",
       "      <th>minimum_nights</th>\n",
       "      <th>number_reviews</th>\n",
       "      <th>last_review</th>\n",
       "      <th>reviews_per_month</th>\n",
       "      <th>review_rate_number</th>\n",
       "      <th>calculated_host_listings_count</th>\n",
       "      <th>availability_365</th>\n",
       "    </tr>\n",
       "  </thead>\n",
       "  <tbody>\n",
       "    <tr>\n",
       "      <th>0</th>\n",
       "      <td>13974863</td>\n",
       "      <td>Private Room in Lower East Side Apartment</td>\n",
       "      <td>651454903</td>\n",
       "      <td>unconfirmed</td>\n",
       "      <td>Maddy</td>\n",
       "      <td>Manhattan</td>\n",
       "      <td>Lower East Side</td>\n",
       "      <td>40.72310</td>\n",
       "      <td>-73.99270</td>\n",
       "      <td>United States</td>\n",
       "      <td>...</td>\n",
       "      <td>2010.0</td>\n",
       "      <td>689.0</td>\n",
       "      <td>138.0</td>\n",
       "      <td>NaN</td>\n",
       "      <td>0.0</td>\n",
       "      <td>NaN</td>\n",
       "      <td>0.74</td>\n",
       "      <td>1.0</td>\n",
       "      <td>1.0</td>\n",
       "      <td>0.0</td>\n",
       "    </tr>\n",
       "    <tr>\n",
       "      <th>1</th>\n",
       "      <td>13975968</td>\n",
       "      <td>Furnished Studio on Upper East Side</td>\n",
       "      <td>23765993225</td>\n",
       "      <td>verified</td>\n",
       "      <td>Jarid</td>\n",
       "      <td>Manhattan</td>\n",
       "      <td>Upper East Side</td>\n",
       "      <td>40.77138</td>\n",
       "      <td>-73.95353</td>\n",
       "      <td>United States</td>\n",
       "      <td>...</td>\n",
       "      <td>2006.0</td>\n",
       "      <td>353.0</td>\n",
       "      <td>71.0</td>\n",
       "      <td>NaN</td>\n",
       "      <td>0.0</td>\n",
       "      <td>NaN</td>\n",
       "      <td>0.74</td>\n",
       "      <td>4.0</td>\n",
       "      <td>1.0</td>\n",
       "      <td>0.0</td>\n",
       "    </tr>\n",
       "    <tr>\n",
       "      <th>2</th>\n",
       "      <td>13977072</td>\n",
       "      <td>King size room in foodie heaven!</td>\n",
       "      <td>3470529701</td>\n",
       "      <td>unconfirmed</td>\n",
       "      <td>Michael</td>\n",
       "      <td>Queens</td>\n",
       "      <td>Astoria</td>\n",
       "      <td>40.77084</td>\n",
       "      <td>-73.92601</td>\n",
       "      <td>United States</td>\n",
       "      <td>...</td>\n",
       "      <td>2017.0</td>\n",
       "      <td>484.0</td>\n",
       "      <td>97.0</td>\n",
       "      <td>NaN</td>\n",
       "      <td>0.0</td>\n",
       "      <td>NaN</td>\n",
       "      <td>0.74</td>\n",
       "      <td>1.0</td>\n",
       "      <td>1.0</td>\n",
       "      <td>0.0</td>\n",
       "    </tr>\n",
       "    <tr>\n",
       "      <th>3</th>\n",
       "      <td>24670153</td>\n",
       "      <td>Sunny and Zen room in Chelsea</td>\n",
       "      <td>25353219525</td>\n",
       "      <td>verified</td>\n",
       "      <td>Raymond</td>\n",
       "      <td>Manhattan</td>\n",
       "      <td>Chelsea</td>\n",
       "      <td>40.74147</td>\n",
       "      <td>-73.99908</td>\n",
       "      <td>United States</td>\n",
       "      <td>...</td>\n",
       "      <td>2015.0</td>\n",
       "      <td>1119.0</td>\n",
       "      <td>224.0</td>\n",
       "      <td>NaN</td>\n",
       "      <td>0.0</td>\n",
       "      <td>NaN</td>\n",
       "      <td>0.74</td>\n",
       "      <td>3.0</td>\n",
       "      <td>1.0</td>\n",
       "      <td>0.0</td>\n",
       "    </tr>\n",
       "    <tr>\n",
       "      <th>4</th>\n",
       "      <td>45546540</td>\n",
       "      <td>Private Room in Lower East Side Apartment</td>\n",
       "      <td>21067567029</td>\n",
       "      <td>verified</td>\n",
       "      <td>Maddy</td>\n",
       "      <td>Manhattan</td>\n",
       "      <td>Lower East Side</td>\n",
       "      <td>40.72310</td>\n",
       "      <td>-73.99270</td>\n",
       "      <td>United States</td>\n",
       "      <td>...</td>\n",
       "      <td>2010.0</td>\n",
       "      <td>689.0</td>\n",
       "      <td>138.0</td>\n",
       "      <td>NaN</td>\n",
       "      <td>0.0</td>\n",
       "      <td>NaN</td>\n",
       "      <td>0.74</td>\n",
       "      <td>1.0</td>\n",
       "      <td>1.0</td>\n",
       "      <td>0.0</td>\n",
       "    </tr>\n",
       "  </tbody>\n",
       "</table>\n",
       "<p>5 rows × 24 columns</p>\n",
       "</div>"
      ],
      "text/plain": [
       "         id                                       name      host_id  \\\n",
       "0  13974863  Private Room in Lower East Side Apartment    651454903   \n",
       "1  13975968        Furnished Studio on Upper East Side  23765993225   \n",
       "2  13977072           King size room in foodie heaven!   3470529701   \n",
       "3  24670153              Sunny and Zen room in Chelsea  25353219525   \n",
       "4  45546540  Private Room in Lower East Side Apartment  21067567029   \n",
       "\n",
       "  host_identity_verified host_name neighbourhood_group    neighbourhood  \\\n",
       "0            unconfirmed     Maddy           Manhattan  Lower East Side   \n",
       "1               verified     Jarid           Manhattan  Upper East Side   \n",
       "2            unconfirmed   Michael              Queens          Astoria   \n",
       "3               verified   Raymond           Manhattan          Chelsea   \n",
       "4               verified     Maddy           Manhattan  Lower East Side   \n",
       "\n",
       "        lat      long        country  ... construction_year   price  \\\n",
       "0  40.72310 -73.99270  United States  ...            2010.0   689.0   \n",
       "1  40.77138 -73.95353  United States  ...            2006.0   353.0   \n",
       "2  40.77084 -73.92601  United States  ...            2017.0   484.0   \n",
       "3  40.74147 -73.99908  United States  ...            2015.0  1119.0   \n",
       "4  40.72310 -73.99270  United States  ...            2010.0   689.0   \n",
       "\n",
       "  service_fee minimum_nights  number_reviews  last_review  reviews_per_month  \\\n",
       "0       138.0            NaN             0.0          NaN               0.74   \n",
       "1        71.0            NaN             0.0          NaN               0.74   \n",
       "2        97.0            NaN             0.0          NaN               0.74   \n",
       "3       224.0            NaN             0.0          NaN               0.74   \n",
       "4       138.0            NaN             0.0          NaN               0.74   \n",
       "\n",
       "   review_rate_number  calculated_host_listings_count availability_365  \n",
       "0                 1.0                             1.0              0.0  \n",
       "1                 4.0                             1.0              0.0  \n",
       "2                 1.0                             1.0              0.0  \n",
       "3                 3.0                             1.0              0.0  \n",
       "4                 1.0                             1.0              0.0  \n",
       "\n",
       "[5 rows x 24 columns]"
      ]
     },
     "execution_count": 6,
     "metadata": {},
     "output_type": "execute_result"
    }
   ],
   "source": [
    "df.head()"
   ]
  },
  {
   "cell_type": "code",
   "execution_count": 7,
   "id": "00854223",
   "metadata": {},
   "outputs": [
    {
     "data": {
      "image/png": "[encoded data removed]",
      "text/plain": [
       "<Figure size 432x288 with 1 Axes>"
      ]
     },
     "metadata": {
      "needs_background": "light"
     },
     "output_type": "display_data"
    }
   ],
   "source": [
    "# Create a scatterplot using matplotlib for another look at how the chosen variables plot against each other.\n",
    "\n",
    "df.plot(x = 'number_reviews', y='reviews_per_month',style='o') \n",
    "plt.title('number of reviews vs reviews per month')  \n",
    "plt.xlabel('No of reviews')  \n",
    "plt.ylabel('Reviews per month')  \n",
    "plt.show()"
   ]
  },
  {
   "cell_type": "code",
   "execution_count": 8,
   "id": "f836eed7",
   "metadata": {},
   "outputs": [],
   "source": [
    "# Reshape the variables into NumPy arrays and put them into separate objects.\n",
    "\n",
    "X = df['number_reviews'].values.reshape(-1,1)\n",
    "y = df['reviews_per_month'].values.reshape(-1,1)"
   ]
  },
  {
   "cell_type": "code",
   "execution_count": 9,
   "id": "ea231682",
   "metadata": {},
   "outputs": [
    {
     "data": {
      "text/plain": [
       "array([[ 0.],\n",
       "       [ 0.],\n",
       "       [ 0.],\n",
       "       ...,\n",
       "       [33.],\n",
       "       [ 6.],\n",
       "       [ 2.]])"
      ]
     },
     "execution_count": 9,
     "metadata": {},
     "output_type": "execute_result"
    }
   ],
   "source": [
    "X"
   ]
  },
  {
   "cell_type": "code",
   "execution_count": 10,
   "id": "f7b4bd9f",
   "metadata": {},
   "outputs": [
    {
     "data": {
      "text/plain": [
       "array([[0.74],\n",
       "       [0.74],\n",
       "       [0.74],\n",
       "       ...,\n",
       "       [0.31],\n",
       "       [0.08],\n",
       "       [0.03]])"
      ]
     },
     "execution_count": 10,
     "metadata": {},
     "output_type": "execute_result"
    }
   ],
   "source": [
    "y"
   ]
  },
  {
   "cell_type": "code",
   "execution_count": 11,
   "id": "4910433b",
   "metadata": {},
   "outputs": [],
   "source": [
    "# Split data into a training set and a test set.\n",
    "\n",
    "X_train, X_test, y_train, y_test = train_test_split(X, y, test_size=0.3, random_state=0)"
   ]
  },
  {
   "cell_type": "code",
   "execution_count": 12,
   "id": "7d512218",
   "metadata": {},
   "outputs": [],
   "source": [
    "# Create a regression object.\n",
    "\n",
    "regression = LinearRegression() "
   ]
  },
  {
   "cell_type": "code",
   "execution_count": 13,
   "id": "c8f5c321",
   "metadata": {},
   "outputs": [
    {
     "data": {
      "text/plain": [
       "LinearRegression()"
      ]
     },
     "execution_count": 13,
     "metadata": {},
     "output_type": "execute_result"
    }
   ],
   "source": [
    "# Fit the regression object onto the training set.\n",
    "\n",
    "regression.fit(X_train, y_train)"
   ]
  },
  {
   "cell_type": "code",
   "execution_count": 14,
   "id": "d289e677",
   "metadata": {},
   "outputs": [],
   "source": [
    "# Predict the values of y using X.\n",
    "\n",
    "y_predicted = regression.predict(X_test)"
   ]
  },
  {
   "cell_type": "code",
   "execution_count": 15,
   "id": "1932b68c",
   "metadata": {},
   "outputs": [
    {
     "data": {
      "image/png": "[encoded data removed]",
      "text/plain": [
       "<Figure size 432x288 with 1 Axes>"
      ]
     },
     "metadata": {
      "needs_background": "light"
     },
     "output_type": "display_data"
    }
   ],
   "source": [
    "# Create a plot that shows the regression line from the model on the test set.\n",
    "\n",
    "plot_test = plt\n",
    "plot_test.scatter(X_test, y_test, color='gray', s = 15)\n",
    "plot_test.plot(X_test, y_predicted, color='red', linewidth =3)\n",
    "plot_test.title('reviews per month vs number of reviews (Test set)')\n",
    "plot_test.xlabel('number of reviews')\n",
    "plot_test.ylabel('reviews per month')\n",
    "plot_test.show()"
   ]
  },
  {
   "cell_type": "code",
   "execution_count": 16,
   "id": "15f6cc3e",
   "metadata": {},
   "outputs": [],
   "source": [
    "# Create objects that contain the model summary statistics.\n",
    "\n",
    "rmse = mean_squared_error(y_test, y_predicted) \n",
    "r2 = r2_score(y_test, y_predicted) "
   ]
  },
  {
   "cell_type": "code",
   "execution_count": 17,
   "id": "047dde58",
   "metadata": {},
   "outputs": [
    {
     "name": "stdout",
     "output_type": "stream",
     "text": [
      "Slope: [[0.01961568]]\n",
      "Mean squared error:  1.6852979177088725\n",
      "R2 score:  0.36899716678672656\n"
     ]
    }
   ],
   "source": [
    "# Print the model summary statistics.\n",
    "\n",
    "print('Slope:' ,regression.coef_)\n",
    "print('Mean squared error: ', rmse)\n",
    "print('R2 score: ', r2)"
   ]
  },
  {
   "cell_type": "code",
   "execution_count": 18,
   "id": "d0b12366",
   "metadata": {},
   "outputs": [
    {
     "data": {
      "text/html": [
       "<div>\n",
       "<style scoped>\n",
       "    .dataframe tbody tr th:only-of-type {\n",
       "        vertical-align: middle;\n",
       "    }\n",
       "\n",
       "    .dataframe tbody tr th {\n",
       "        vertical-align: top;\n",
       "    }\n",
       "\n",
       "    .dataframe thead th {\n",
       "        text-align: right;\n",
       "    }\n",
       "</style>\n",
       "<table border=\"1\" class=\"dataframe\">\n",
       "  <thead>\n",
       "    <tr style=\"text-align: right;\">\n",
       "      <th></th>\n",
       "      <th>Actual</th>\n",
       "      <th>Predicted</th>\n",
       "    </tr>\n",
       "  </thead>\n",
       "  <tbody>\n",
       "    <tr>\n",
       "      <th>0</th>\n",
       "      <td>0.53</td>\n",
       "      <td>1.031932</td>\n",
       "    </tr>\n",
       "    <tr>\n",
       "      <th>1</th>\n",
       "      <td>0.17</td>\n",
       "      <td>0.776928</td>\n",
       "    </tr>\n",
       "    <tr>\n",
       "      <th>2</th>\n",
       "      <td>0.74</td>\n",
       "      <td>0.737697</td>\n",
       "    </tr>\n",
       "    <tr>\n",
       "      <th>3</th>\n",
       "      <td>3.63</td>\n",
       "      <td>2.228488</td>\n",
       "    </tr>\n",
       "    <tr>\n",
       "      <th>4</th>\n",
       "      <td>0.74</td>\n",
       "      <td>0.737697</td>\n",
       "    </tr>\n",
       "    <tr>\n",
       "      <th>5</th>\n",
       "      <td>0.13</td>\n",
       "      <td>0.757313</td>\n",
       "    </tr>\n",
       "    <tr>\n",
       "      <th>6</th>\n",
       "      <td>1.85</td>\n",
       "      <td>2.640418</td>\n",
       "    </tr>\n",
       "    <tr>\n",
       "      <th>7</th>\n",
       "      <td>0.29</td>\n",
       "      <td>0.894622</td>\n",
       "    </tr>\n",
       "    <tr>\n",
       "      <th>8</th>\n",
       "      <td>0.74</td>\n",
       "      <td>0.737697</td>\n",
       "    </tr>\n",
       "    <tr>\n",
       "      <th>9</th>\n",
       "      <td>0.04</td>\n",
       "      <td>0.757313</td>\n",
       "    </tr>\n",
       "    <tr>\n",
       "      <th>10</th>\n",
       "      <td>3.12</td>\n",
       "      <td>1.679249</td>\n",
       "    </tr>\n",
       "    <tr>\n",
       "      <th>11</th>\n",
       "      <td>0.86</td>\n",
       "      <td>2.208873</td>\n",
       "    </tr>\n",
       "    <tr>\n",
       "      <th>12</th>\n",
       "      <td>0.27</td>\n",
       "      <td>0.796544</td>\n",
       "    </tr>\n",
       "    <tr>\n",
       "      <th>13</th>\n",
       "      <td>2.21</td>\n",
       "      <td>0.953469</td>\n",
       "    </tr>\n",
       "    <tr>\n",
       "      <th>14</th>\n",
       "      <td>0.74</td>\n",
       "      <td>0.737697</td>\n",
       "    </tr>\n",
       "    <tr>\n",
       "      <th>15</th>\n",
       "      <td>0.58</td>\n",
       "      <td>0.875007</td>\n",
       "    </tr>\n",
       "    <tr>\n",
       "      <th>16</th>\n",
       "      <td>3.00</td>\n",
       "      <td>5.072762</td>\n",
       "    </tr>\n",
       "    <tr>\n",
       "      <th>17</th>\n",
       "      <td>0.29</td>\n",
       "      <td>0.953469</td>\n",
       "    </tr>\n",
       "    <tr>\n",
       "      <th>18</th>\n",
       "      <td>1.33</td>\n",
       "      <td>1.659634</td>\n",
       "    </tr>\n",
       "    <tr>\n",
       "      <th>19</th>\n",
       "      <td>3.78</td>\n",
       "      <td>1.031932</td>\n",
       "    </tr>\n",
       "    <tr>\n",
       "      <th>20</th>\n",
       "      <td>2.45</td>\n",
       "      <td>1.424246</td>\n",
       "    </tr>\n",
       "    <tr>\n",
       "      <th>21</th>\n",
       "      <td>1.27</td>\n",
       "      <td>1.796943</td>\n",
       "    </tr>\n",
       "    <tr>\n",
       "      <th>22</th>\n",
       "      <td>1.89</td>\n",
       "      <td>1.169242</td>\n",
       "    </tr>\n",
       "    <tr>\n",
       "      <th>23</th>\n",
       "      <td>0.74</td>\n",
       "      <td>0.737697</td>\n",
       "    </tr>\n",
       "    <tr>\n",
       "      <th>24</th>\n",
       "      <td>2.26</td>\n",
       "      <td>0.816160</td>\n",
       "    </tr>\n",
       "    <tr>\n",
       "      <th>25</th>\n",
       "      <td>1.94</td>\n",
       "      <td>1.208473</td>\n",
       "    </tr>\n",
       "    <tr>\n",
       "      <th>26</th>\n",
       "      <td>0.74</td>\n",
       "      <td>0.737697</td>\n",
       "    </tr>\n",
       "    <tr>\n",
       "      <th>27</th>\n",
       "      <td>2.99</td>\n",
       "      <td>2.620802</td>\n",
       "    </tr>\n",
       "    <tr>\n",
       "      <th>28</th>\n",
       "      <td>0.03</td>\n",
       "      <td>0.757313</td>\n",
       "    </tr>\n",
       "    <tr>\n",
       "      <th>29</th>\n",
       "      <td>0.74</td>\n",
       "      <td>0.737697</td>\n",
       "    </tr>\n",
       "  </tbody>\n",
       "</table>\n",
       "</div>"
      ],
      "text/plain": [
       "    Actual  Predicted\n",
       "0     0.53   1.031932\n",
       "1     0.17   0.776928\n",
       "2     0.74   0.737697\n",
       "3     3.63   2.228488\n",
       "4     0.74   0.737697\n",
       "5     0.13   0.757313\n",
       "6     1.85   2.640418\n",
       "7     0.29   0.894622\n",
       "8     0.74   0.737697\n",
       "9     0.04   0.757313\n",
       "10    3.12   1.679249\n",
       "11    0.86   2.208873\n",
       "12    0.27   0.796544\n",
       "13    2.21   0.953469\n",
       "14    0.74   0.737697\n",
       "15    0.58   0.875007\n",
       "16    3.00   5.072762\n",
       "17    0.29   0.953469\n",
       "18    1.33   1.659634\n",
       "19    3.78   1.031932\n",
       "20    2.45   1.424246\n",
       "21    1.27   1.796943\n",
       "22    1.89   1.169242\n",
       "23    0.74   0.737697\n",
       "24    2.26   0.816160\n",
       "25    1.94   1.208473\n",
       "26    0.74   0.737697\n",
       "27    2.99   2.620802\n",
       "28    0.03   0.757313\n",
       "29    0.74   0.737697"
      ]
     },
     "execution_count": 18,
     "metadata": {},
     "output_type": "execute_result"
    }
   ],
   "source": [
    "# Create a dataframe comparing the actual and predicted values of y.\n",
    "\n",
    "data = pd.DataFrame({'Actual': y_test.flatten(), 'Predicted': y_predicted.flatten()})\n",
    "data.head(30)"
   ]
  },
  {
   "cell_type": "code",
   "execution_count": 20,
   "id": "3b10ec52",
   "metadata": {},
   "outputs": [],
   "source": [
    "# Predict.\n",
    "\n",
    "y_predicted_train = regression.predict(X_train) "
   ]
  },
  {
   "cell_type": "code",
   "execution_count": 21,
   "id": "facc2ff1",
   "metadata": {},
   "outputs": [],
   "source": [
    "rmse = mean_squared_error(y_train, y_predicted_train)\n",
    "r2 = r2_score(y_train, y_predicted_train)"
   ]
  },
  {
   "cell_type": "code",
   "execution_count": 22,
   "id": "14c4f512",
   "metadata": {},
   "outputs": [
    {
     "name": "stdout",
     "output_type": "stream",
     "text": [
      "Slope: [[0.01961568]]\n",
      "Mean squared error:  1.6804416325197227\n",
      "R2 score:  0.35846277090576095\n"
     ]
    }
   ],
   "source": [
    "print('Slope:' ,regression.coef_)\n",
    "print('Mean squared error: ', rmse)\n",
    "print('R2 score: ', r2)"
   ]
  },
  {
   "cell_type": "code",
   "execution_count": 23,
   "id": "2a4f6ae2",
   "metadata": {},
   "outputs": [
    {
     "data": {
      "image/png": "[encoded data removed]",
      "text/plain": [
       "<Figure size 432x288 with 1 Axes>"
      ]
     },
     "metadata": {
      "needs_background": "light"
     },
     "output_type": "display_data"
    }
   ],
   "source": [
    "# Visualizing the training set results.\n",
    "\n",
    "plot_test = plt\n",
    "plot_test.scatter(X_train, y_train, color='green', s = 15)\n",
    "plot_test.plot(X_train, y_predicted_train, color='red', linewidth =3)\n",
    "plot_test.title('Reviews per month vs number of reviews (train set)')\n",
    "plot_test.xlabel('number of reviews')\n",
    "plot_test.ylabel('reviews per month')\n",
    "plot_test.show()"
   ]
  },
  {
   "cell_type": "markdown",
   "id": "34f67118",
   "metadata": {},
   "source": [
    "#### After comparing the actual result with the predicted and taking into the account the statical information we can conclude that this model wouldn't be the best to predict this variables, specially because the mean squared error is considerably high"
   ]
  },
  {
   "cell_type": "code",
   "execution_count": null,
   "id": "dbde7d66",
   "metadata": {},
   "outputs": [],
   "source": []
  }
 ],
 "metadata": {
  "kernelspec": {
   "display_name": "Python 3 (ipykernel)",
   "language": "python",
   "name": "python3"
  },
  "language_info": {
   "codemirror_mode": {
    "name": "ipython",
    "version": 3
   },
   "file_extension": ".py",
   "mimetype": "text/x-python",
   "name": "python",
   "nbconvert_exporter": "python",
   "pygments_lexer": "ipython3",
   "version": "3.9.12"
  }
 },
 "nbformat": 4,
 "nbformat_minor": 5
}
